{
 "cells": [
  {
   "cell_type": "markdown",
   "metadata": {},
   "source": [
    "##### [< Forrige](1%20-%20introduksjon.ipynb)     |     [Neste >](3%20-%20matplotlib.ipynb)"
   ]
  },
  {
   "cell_type": "markdown",
   "metadata": {
    "jp-MarkdownHeadingCollapsed": true,
    "tags": []
   },
   "source": [
    "<span style=\"color:#9bb1d4;font-size:30px;font-weight:900\"> 2 - funksjoner </span>  "
   ]
  },
  {
   "cell_type": "markdown",
   "metadata": {},
   "source": [
    "# Å bruke funksjoner"
   ]
  },
  {
   "cell_type": "markdown",
   "metadata": {},
   "source": [
    "Funksjoner er helt sentralt i all slags programmering. Et program uten egendefinerte funksjoner er bare en liste med kommandoer, og det er svært begrenset hva du kan få til med det. Heldigvis er det ekstremt enkelt å lage egne funksjoner i Python. \n",
    "\n",
    "En vanlig nybegynnerfeil i programmering er å ikke utnytte muligheten til å lage egne funksjoner tilstrekkelig. Hovedregelen er at om det er noe av koden din som repeteres, så skal du lage en ny funksjon som håndterer dette. Målet er at antall linjer i hver funksjon skal være så lite som mulig. Men før vi lærer å lage egne funksjoner, skal vi se litt på hvordan funksjoner brukes."
   ]
  },
  {
   "cell_type": "markdown",
   "metadata": {},
   "source": [
    "## Innebygde funksjoner"
   ]
  },
  {
   "cell_type": "markdown",
   "metadata": {},
   "source": [
    "Python kommer med en rekke innebygde funksjoner. I tillegg kan du importere pakker som har en lang rekke funksjoner. Her er noen innebygde funksjoner i Python:\n",
    "\n",
    "#### Eksempel 1:"
   ]
  },
  {
   "cell_type": "code",
   "execution_count": 1,
   "metadata": {},
   "outputs": [
    {
     "name": "stdout",
     "output_type": "stream",
     "text": [
      "2.4\n",
      "2.0\n",
      "2.4\n",
      "5\n"
     ]
    }
   ],
   "source": [
    "print( max(2.4,2.0)   )\n",
    "print( min(2.4, 2.0)  )\n",
    "print( abs(-2.4)      )\n",
    "print( len(\"abcde\")   )"
   ]
  },
  {
   "cell_type": "markdown",
   "metadata": {},
   "source": [
    "Legg merke til at funksjonene `max`, `min`, `abs` og `len` alle er omsluttet av funksjonen `print` som sørger for at resultatet skrives ut nedenfor. En funksjon kan altså *returnere noe*, slik som  `max`, `min`, `abs` og `len`, eller *gjøre noe* slik som `print`, eller begge deler.\n",
    "\n",
    "Funksjonen `len` angir antall bokstaver, men kan også angi lengde på en liste. En liste i python skriver du som `[1,'hei',a]`. En liste kan altså bestå av flere ulike typer variabler og konstanter. De to første elementene her er konstanter, og den tredje er en variabel som er satt lik et flyttal i eksemplet under.\n",
    "\n",
    "#### Eksempel 2:"
   ]
  },
  {
   "cell_type": "code",
   "execution_count": 2,
   "metadata": {},
   "outputs": [
    {
     "name": "stdout",
     "output_type": "stream",
     "text": [
      "[1, 'hei', 50.8]\n"
     ]
    },
    {
     "data": {
      "text/plain": [
       "3"
      ]
     },
     "execution_count": 2,
     "metadata": {},
     "output_type": "execute_result"
    }
   ],
   "source": [
    "a=50.8\n",
    "print([1,'hei',a])\n",
    "len([1,'hei',a])"
   ]
  },
  {
   "cell_type": "markdown",
   "metadata": {},
   "source": [
    "## Eksponentialfunksjonene"
   ]
  },
  {
   "cell_type": "markdown",
   "metadata": {},
   "source": [
    "I Python er det svært enkelt å *importere* ferdig pakker for som kan kjøre ferdige funksjoner. Vi skal her se på et eksempel med noe som heter eksponentialfunksjonen. Denne finnes blant annet i pakken `numpy`. Dette er en svært nyttig pakke for matematiske beregninger. Se seksjonen om \"Installere Python-pakker\" i [\"0 - installasjon og tips.ipynb\"](0%20-%20installasjon%20og%20tips.ipynb) for å installere Numpy. \n",
    "\n",
    "Som vi skal se lenger ned, så er eksponentialfunksjonen viktig innen økonomifaget fordi den brukes i vekstberegninger, for eksempel for befolkning eller produksjon. \n",
    "\n",
    "Som nevnt tidligere så er *potensen* $y^x$ et *grunntall* $y$ opphøyet i en eksponent $x$. Når vi snakker om *eksponenten* i bestemt form, så betyr det at grunntallet er et bestemt tall. Dette tallet kalles $e$, etter matematikeren Euler, og er tilnærmet $e\\approx2.71828$ (det er egentlig en uendelig rekke med siffer etter komma) \n",
    "\n",
    "Siden Python ikke har noen innebygd funksjon for eksponenten, importerer vi altså først `numpy`-pakken, som har en slik funksjon. For å få mindre skriving senere, er det vanlig å importere `numpy` som aliaset `np`. Dette gjør vi slik:\n",
    "\n",
    "#### Eksempel 3:"
   ]
  },
  {
   "cell_type": "code",
   "execution_count": 3,
   "metadata": {},
   "outputs": [],
   "source": [
    "import numpy as np"
   ]
  },
  {
   "cell_type": "markdown",
   "metadata": {},
   "source": [
    "Navnet på eksponent-funksjonen i numpy er exp. Skal vi for eksempel finne hva $e^2=2.71828^2$ er, skriver vi\n",
    "\n",
    "#### Eksempel 4:"
   ]
  },
  {
   "cell_type": "code",
   "execution_count": 4,
   "metadata": {},
   "outputs": [
    {
     "data": {
      "text/plain": [
       "7.38905609893065"
      ]
     },
     "execution_count": 4,
     "metadata": {},
     "output_type": "execute_result"
    }
   ],
   "source": [
    "np.exp(2)"
   ]
  },
  {
   "cell_type": "markdown",
   "metadata": {},
   "source": [
    " Om vi ønsker å vite hva eksponenten er med litt mer enn fem desimaler, kan vi finne eksponenten av 1, siden ethvert tall opphøyd i 1 er seg selv:\n",
    "\n",
    "#### Eksempel 5:"
   ]
  },
  {
   "cell_type": "code",
   "execution_count": 5,
   "metadata": {},
   "outputs": [
    {
     "data": {
      "text/plain": [
       "2.718281828459045"
      ]
     },
     "execution_count": 5,
     "metadata": {},
     "output_type": "execute_result"
    }
   ],
   "source": [
    "np.exp(1)"
   ]
  },
  {
   "cell_type": "markdown",
   "metadata": {},
   "source": [
    "Eksponenten til 5 er for eksempel 2.71828 opphøyet i 5:\n",
    "\n",
    "#### Eksempel 6:"
   ]
  },
  {
   "cell_type": "code",
   "execution_count": 6,
   "metadata": {},
   "outputs": [
    {
     "data": {
      "text/plain": [
       "148.41315910257657"
      ]
     },
     "execution_count": 6,
     "metadata": {},
     "output_type": "execute_result"
    }
   ],
   "source": [
    "np.exp(1)**5"
   ]
  },
  {
   "cell_type": "code",
   "execution_count": 7,
   "metadata": {},
   "outputs": [
    {
     "data": {
      "text/plain": [
       "148.4131591025766"
      ]
     },
     "execution_count": 7,
     "metadata": {},
     "output_type": "execute_result"
    }
   ],
   "source": [
    "np.exp(5)"
   ]
  },
  {
   "cell_type": "markdown",
   "metadata": {},
   "source": [
    "For å opphøye noe bruker vi altså dobbelt gangetegn `**`.\n",
    "\n",
    "*Logartimen* er det eksakt motsatte av eksponentialfunksjonen. Tar vi logaritmen av eksponentialfunksjon, får vi argumentet til sistnevnte. Tar vi eksponentialfunksjonen av logartimen får vi også argumentet til logartimen. I en av oppgavene under skal du vise dette."
   ]
  },
  {
   "cell_type": "markdown",
   "metadata": {},
   "source": [
    "# Lage egne funksjoner - renteregning"
   ]
  },
  {
   "cell_type": "markdown",
   "metadata": {},
   "source": [
    "Vi skal her se hvordan vi kan lage egne funksjoner for renteregning."
   ]
  },
  {
   "cell_type": "markdown",
   "metadata": {},
   "source": [
    "La oss starte med å lage en funksjon for et lån uten avdrag. Om banken legger til renten én gang i året og renten er r, så er lånet på x om T år gitt som $x\\cdot (1+r)^{T}$. Dette kan vi programmere som følgende funksjon:\n",
    "\n",
    "#### Eksempel 7:"
   ]
  },
  {
   "cell_type": "code",
   "execution_count": 8,
   "metadata": {},
   "outputs": [],
   "source": [
    "def account_balance(x,r,T):\n",
    "    return x*(1+r)**T"
   ]
  },
  {
   "cell_type": "markdown",
   "metadata": {},
   "source": [
    "Nøkkelordet `return`sørger for at det som står etter `return` returneres av funksjonen. Dersom funksjonen ikke har `return`i seg, returneres `None`, som representerer \"ingenting\" i Python. \n",
    "\n",
    "Om renten på lånet er 20%=0.2 og innskuddet er 100, så er beløpet om to år dermed:\n",
    "\n",
    "#### Eksempel 8:"
   ]
  },
  {
   "cell_type": "code",
   "execution_count": 9,
   "metadata": {},
   "outputs": [
    {
     "data": {
      "text/plain": [
       "144.0"
      ]
     },
     "execution_count": 9,
     "metadata": {},
     "output_type": "execute_result"
    }
   ],
   "source": [
    "account_balance(100,0.2,2)"
   ]
  },
  {
   "cell_type": "markdown",
   "metadata": {},
   "source": [
    "La oss nå tenke oss at banken legger til renter n ganger i året. Om for eksempel n=12, så legger banken til renter måndedlig. Vi kan da regne ut lånet ved ulik antall forrentninger per år. Formelen for dette er $x\\cdot (1+\\frac{r}{n})^{T\\cdot n}$. \n",
    "\n",
    "Formelen har en enkel og intuitiv forklaring: Vi deler rentesatsen på antall perioder, samtidig som renten legges til i hver periode. Renten i hver periode er dermed $\\frac{r}{n}$, og dette forrentes totalt $T\\cdot n$ ganger. Dette kan programmeres i pyton som\n",
    "\n",
    "#### Eksempel 9:"
   ]
  },
  {
   "cell_type": "code",
   "execution_count": 10,
   "metadata": {},
   "outputs": [],
   "source": [
    "def account_balance_n(x,r,T,n):\n",
    "    return x*(1+r/n)**(T*n)"
   ]
  },
  {
   "cell_type": "markdown",
   "metadata": {},
   "source": [
    "La oss nå sammenligne å legge til renten hver måned, med å legge den til årlig:\n",
    "\n",
    "#### Eksempel 10:"
   ]
  },
  {
   "cell_type": "code",
   "execution_count": 11,
   "metadata": {},
   "outputs": [
    {
     "name": "stdout",
     "output_type": "stream",
     "text": [
      "148.69146179463576\n",
      "144.0\n"
     ]
    }
   ],
   "source": [
    "print(account_balance_n(100,0.2,2,12))\n",
    "print(account_balance_n(100,0.2,2,1))"
   ]
  },
  {
   "cell_type": "markdown",
   "metadata": {},
   "source": [
    "Vi ser at det lønner seg en god del å legge til renten hver måned. La oss nå anta at rentene legges til hvert sekund i året. Det er 31 536 000 sekunder i et år. I så fall er innskuddet om to år verdt:\n",
    "\n",
    "#### Eksempel 11:"
   ]
  },
  {
   "cell_type": "code",
   "execution_count": 12,
   "metadata": {},
   "outputs": [
    {
     "data": {
      "text/plain": [
       "149.18246858790133"
      ]
     },
     "execution_count": 12,
     "metadata": {},
     "output_type": "execute_result"
    }
   ],
   "source": [
    "account_balance_n(100,0.2,2,31536000)"
   ]
  },
  {
   "cell_type": "markdown",
   "metadata": {},
   "source": [
    "Banken vil altså tjene litt på å gjøre det. I stedet for å regne ut med daglig forrentning kan vi bruke kontinuerlig, som vil si at vi bruker eksponentialfunksjonen\n",
    "\n",
    "#### Eksempel 12:"
   ]
  },
  {
   "cell_type": "code",
   "execution_count": 13,
   "metadata": {},
   "outputs": [],
   "source": [
    "def account_balance_exponential(x,r,T):\n",
    "    return x*np.exp(r*T)"
   ]
  },
  {
   "cell_type": "markdown",
   "metadata": {},
   "source": [
    "Dette gir oss verdien på lånet når renten legges til \"kontinuerlig\", altså oftere enn hvert sekund. La oss nå regne ut verdien av gjelden om to år med kontinuerlig forrentning:\n",
    "\n",
    "\n",
    "#### Eksempel 13"
   ]
  },
  {
   "cell_type": "code",
   "execution_count": 14,
   "metadata": {},
   "outputs": [
    {
     "data": {
      "text/plain": [
       "149.18246976412703"
      ]
     },
     "execution_count": 14,
     "metadata": {},
     "output_type": "execute_result"
    }
   ],
   "source": [
    "account_balance_exponential(100,0.2,2)"
   ]
  },
  {
   "cell_type": "markdown",
   "metadata": {},
   "source": [
    "Vi ser at dette er omtrent identisk med når vi la til renten hvert sekund. Eksponentialfunksjonen er altså en måte å regne ut vekst når økningen legges til veldig hyppig. Forrentning hvert sekund og kontinuerlig forrentig gir altså omtrent det samme resultatet. \"Kontinuerlig forrentning\" er et abstrakt begrep, men det betyr i realiteten bare at vi legger til veksten \"veldig hyppig\".  \n",
    "\n",
    "Årsaken til at vi ofte bruker logaritmen og eksponentialfunksjonen istedet for å legge til veksten hvert sekund, ar et det er veldig mye enklere å regne med logartimer enn vanlig prosentregning. "
   ]
  },
  {
   "cell_type": "markdown",
   "metadata": {},
   "source": [
    "# Mer om funksjoner\n",
    "La oss definere en enkel funksjon som dobler et tall:\n",
    "\n",
    "#### Eksempel 14:"
   ]
  },
  {
   "cell_type": "code",
   "execution_count": 15,
   "metadata": {},
   "outputs": [],
   "source": [
    "def f(x):\n",
    "    return 2*x"
   ]
  },
  {
   "cell_type": "markdown",
   "metadata": {},
   "source": [
    " La oss nå sjekke følgende:\n",
    "\n",
    "1. Hvilket resultat gir funksjonen?\n",
    "2. Hva slags objekt er funksjonen?\n",
    "3. Hva slags objekt returnerer funksjonen?\n",
    "\n",
    "#### Eksempel 15:"
   ]
  },
  {
   "cell_type": "code",
   "execution_count": 16,
   "metadata": {},
   "outputs": [
    {
     "name": "stdout",
     "output_type": "stream",
     "text": [
      "16\n",
      "<class 'function'>\n",
      "<class 'int'>\n"
     ]
    }
   ],
   "source": [
    "print(f(8))            # printer resultatet av funksjonen når argumentet er 8\n",
    "print(type(f))         # printer hvilken type objekt det er\n",
    "print(type(f(5)))      # printer hvilken type resultate av funksjonen er"
   ]
  },
  {
   "cell_type": "markdown",
   "metadata": {},
   "source": [
    "Funksjonen dobler argumentet, så med 8 som argument blir resultatet 16. Symbolet `f` representerer nå en funksjon (`function`), som vi ser er resultatet av `print(type(f))`. Men dersom vi *kaller* funksjonen med for eksemple argumentet 5, får vi resultatet av funksjonen, som er av type `int`. Funksjoner trenger imidlertid ikke retunere noe. Dette er også en funksjon:\n",
    "\n",
    "#### Eksempel 16:"
   ]
  },
  {
   "cell_type": "code",
   "execution_count": 17,
   "metadata": {},
   "outputs": [
    {
     "name": "stdout",
     "output_type": "stream",
     "text": [
      "Hello world!\n"
     ]
    }
   ],
   "source": [
    "def hello():\n",
    "    print('Hello world!')\n",
    "\n",
    "hello()"
   ]
  },
  {
   "cell_type": "markdown",
   "metadata": {},
   "source": [
    "Vi ser at denne funksjonen ikke har `return`-nøkkelordet. Dermed returneres ingen verdi. I stedet for å returnere noe, så *gjør* denne funksjonen noe, nemlig å skrive ut 'Hello world\"' til skjermen. \n",
    "\n",
    "Du kaller funksjoner ved å skrive funksjonen med argumentet i parentes etter navnet. Som vi ser her, når det ikke er noen argumenter, skriver du tomme parenteser."
   ]
  },
  {
   "cell_type": "markdown",
   "metadata": {},
   "source": [
    "En funksjon er også en variabel og et objekt. Du kan for eksempel definere en ny variabel som en tidligere definert funksjon:\n",
    "\n",
    "#### Eksempel 17:"
   ]
  },
  {
   "cell_type": "code",
   "execution_count": 18,
   "metadata": {},
   "outputs": [
    {
     "name": "stdout",
     "output_type": "stream",
     "text": [
      "Hello world!\n"
     ]
    }
   ],
   "source": [
    "hi=hello\n",
    "hi()"
   ]
  },
  {
   "cell_type": "markdown",
   "metadata": {},
   "source": [
    "Av og til ønsker du at argumentene til en funksjon skal være valgfrie. Da kan du definere en standard (\"default\") verdi for argumentet:\n",
    "\n",
    "#### Eksempel 18:"
   ]
  },
  {
   "cell_type": "code",
   "execution_count": 19,
   "metadata": {},
   "outputs": [
    {
     "name": "stdout",
     "output_type": "stream",
     "text": [
      "Innehaveren krevde i utgangspunkltet 510.0 kroner for fem epler.\n",
      "Det var alt for mye, så jeg tilbydde 0.051000000000000004 kroner.\n",
      "Vi ble til slutt enige om 51.0 kroner.\n",
      "\n"
     ]
    }
   ],
   "source": [
    "def f(x,a=1.02e+2):\n",
    "    return a*x\n",
    "\n",
    "print(f\"Innehaveren krevde i utgangspunkltet {f(5)} kroner for fem epler.\\n\"\n",
    "     f\"Det var alt for mye, så jeg tilbydde {f(5,1.02e-2)} kroner.\\n\"\n",
    "     f\"Vi ble til slutt enige om {f(5,1.02e+1)} kroner.\\n\")"
   ]
  },
  {
   "cell_type": "markdown",
   "metadata": {},
   "source": [
    "Legg merke til at argumentene til en funksjon settes inn i en parentes. For `f(x,y)` for eksempel, så er `x` og `y` argumenter til funksjonen `f`. Disse står inne i en parentes `(x,y)`. Denne parentesen er et objekt i seg selv og kalles en `tuple`. Det går derfor an å definere alle argumentene *først*, og så la funksjonen evaluere dem. La oss for eksempel si at `x=20` og `y=50`, slik at `(x,y)=(20,50)`. Vi kan da definere variablene først og så evaluere funksjonen på følgende måte"
   ]
  },
  {
   "cell_type": "code",
   "execution_count": 20,
   "metadata": {},
   "outputs": [
    {
     "data": {
      "text/plain": [
       "1000"
      ]
     },
     "execution_count": 20,
     "metadata": {},
     "output_type": "execute_result"
    }
   ],
   "source": [
    "args=(20,50)\n",
    "f(*args)"
   ]
  },
  {
   "cell_type": "markdown",
   "metadata": {},
   "source": [
    "Dette er en mulighet som kan være veldig nyttig i mange sammenhenger. En `tuple`skiller seg fra en liste (`list`) ved at sistnevnte defineres med hakeparenteser `[]` i stedet for runde parenteser `()`. Vi skal senere komme tilbake til flere forskjeller på en liste og en tuple. "
   ]
  },
  {
   "cell_type": "markdown",
   "metadata": {},
   "source": [
    "# Tilbud og etterspørsel"
   ]
  },
  {
   "cell_type": "markdown",
   "metadata": {},
   "source": [
    "La oss definere en tilbud- og etterspørselsfunksjon. Disse funksjonene skal vise hvilken ***pris*** konsumentene maksimalt er villige til å betale for en gitt mengde, og hvor mye produsentene minimum må ha for å selge varen. \n",
    "\n",
    "Den høyeste prisen er det bare noen få konsumenter som er villige til å betale, så desto større kvantum `x` som skal selges, desto lavere må prisen være. Etterspørselsfunksjonen må derfor være fallende (lavere pris ved høyere kvantum).\n",
    "\n",
    "Her er et forslag til etterspørselsfunksjon:\n",
    "\n",
    "#### Eksempel 19:"
   ]
  },
  {
   "cell_type": "code",
   "execution_count": 21,
   "metadata": {},
   "outputs": [],
   "source": [
    "#Creating a function that returns total demand given a price p\n",
    "def demand(x):\n",
    "    return 125/(5+x)"
   ]
  },
  {
   "cell_type": "markdown",
   "metadata": {},
   "source": [
    "Den laveste prisen er det bare den mest effektive bedriften som klarer å produsere lønnsomt for. Ettersom kvantum `x` øker vil flere, men mindre effektive bedrifter, tilby varen. Desto større kvantum, desto høyere pris kreves per enhet. Tilbudsfunksjonen bør derfor være stigende (høyere pris ved høyere kvantum).\n",
    "\n",
    "Her er forslag til tilbudsfunksjoner:\n",
    "\n",
    "#### Eksempel 20:"
   ]
  },
  {
   "cell_type": "code",
   "execution_count": 22,
   "metadata": {},
   "outputs": [],
   "source": [
    "#Creating a function that returns total supply given a price p\n",
    "def supply(x):\n",
    "    return x**2"
   ]
  },
  {
   "cell_type": "markdown",
   "metadata": {},
   "source": [
    "## Oppgaver:"
   ]
  },
  {
   "cell_type": "markdown",
   "metadata": {
    "tags": []
   },
   "source": [
    "#### Oppgave 1:\n",
    "\n",
    "Sjekk med nummeriske eksempler at tilbudskurven faktisk er økende og etterspørselskurven faktisk er fallende."
   ]
  },
  {
   "cell_type": "code",
   "execution_count": 23,
   "metadata": {
    "tags": []
   },
   "outputs": [
    {
     "name": "stdout",
     "output_type": "stream",
     "text": [
      "25\n",
      "100\n"
     ]
    }
   ],
   "source": [
    "print(supply(5))\n",
    "print(supply(10))"
   ]
  },
  {
   "cell_type": "markdown",
   "metadata": {},
   "source": [
    "***Tilbudet er økende***"
   ]
  },
  {
   "cell_type": "code",
   "execution_count": 24,
   "metadata": {
    "tags": []
   },
   "outputs": [
    {
     "name": "stdout",
     "output_type": "stream",
     "text": [
      "12.5\n",
      "8.333333333333334\n"
     ]
    }
   ],
   "source": [
    "print(demand(5))\n",
    "print(demand(10))"
   ]
  },
  {
   "cell_type": "markdown",
   "metadata": {},
   "source": [
    "***Etterspørselen er synkende***"
   ]
  },
  {
   "cell_type": "markdown",
   "metadata": {},
   "source": [
    "#### Oppgave 2:\n",
    "Finn med prøving og feiling eller på annen måte hvilket kvantum som gir likhet mellom tilbud og etterspørsel. Hvilken pris gir slik kvantum?"
   ]
  },
  {
   "cell_type": "code",
   "execution_count": 25,
   "metadata": {
    "tags": []
   },
   "outputs": [
    {
     "name": "stdout",
     "output_type": "stream",
     "text": [
      "[0.0, 0.6049382716049383, 2.419753086419753, 5.4444444444444455, 9.679012345679013, 15.123456790123456, 21.777777777777782, 29.641975308641978, 38.71604938271605, 49.0]\n",
      "[25.0, 21.634615384615383, 19.06779661016949, 17.045454545454543, 15.41095890410959, 14.0625, 12.93103448275862, 11.96808510638298, 11.138613861386139, 10.416666666666666]\n"
     ]
    }
   ],
   "source": [
    "#printing out demand and supply for different quantities to see for which the mnarket clears, approximately\n",
    "print([supply(i) for i in np.linspace(0.,7,10)])\n",
    "print([demand(i) for i in np.linspace(0,7,10)])"
   ]
  },
  {
   "cell_type": "markdown",
   "metadata": {
    "tags": []
   },
   "source": [
    "***Markedet klarer rundt en etterspørsel på 14-15 enheter.***"
   ]
  },
  {
   "cell_type": "markdown",
   "metadata": {
    "tags": []
   },
   "source": [
    "#### Oppgave 3:\n",
    "\n",
    "1. Lag en funksjon som viser hvor mange penger du har i gjen når du har brukt x penger av et budsjett på b"
   ]
  },
  {
   "cell_type": "code",
   "execution_count": 26,
   "metadata": {
    "tags": []
   },
   "outputs": [
    {
     "data": {
      "text/plain": [
       "'Av et budjsett på 1000 brukte jeg 700 og har igjen 300'"
      ]
     },
     "execution_count": 26,
     "metadata": {},
     "output_type": "execute_result"
    }
   ],
   "source": [
    "def rest(b, x):\n",
    "    return b-x\n",
    "b =1000\n",
    "x = 700\n",
    "f\"Av et budjsett på {b} brukte jeg {x} og har igjen {rest(b,x)}\""
   ]
  },
  {
   "cell_type": "markdown",
   "metadata": {},
   "source": [
    "2. Lag en funksjon som returnerer hvor mye parkeringen kostet når du har stått en tidsperiode angitt av argumentet `time_period`, og en pris per time angitt av argumentet `p`. Funksjonen skal forvente at time_period er på formatet \"hh:mm:ss\" (en streng). Du kan trekke ut timer, minutter og sekunder fra en tekstreng på det foreslåtte formatet, ved å bruke koden `hh,mm,ss=int(time_period[0:2]),int(time_period[3:5]),int(time_period[6:])`. Du må  konvertere tiden til timer på desimalform for å regne ut kostnad. Det kan du gjøre med denne formelen: `tt_dec=hh+mm/60+ss/(60*60)`. "
   ]
  },
  {
   "cell_type": "code",
   "execution_count": 27,
   "metadata": {},
   "outputs": [
    {
     "name": "stdout",
     "output_type": "stream",
     "text": [
      "Parkeringstid: 02:22:31, pris per time: 120 kroner, parkeringskostnad: 285.03333333333336 kroner\n"
     ]
    }
   ],
   "source": [
    "def parking_cost(time_period, p):\n",
    "    hh,mm,ss=int(time_period[0:2]),int(time_period[3:5]),int(time_period[6:])\n",
    "    time_decimal = hh + (mm/60) + (ss/(60*60))\n",
    "    return time_decimal*p\n",
    "\n",
    "time_period = \"02:22:31\"\n",
    "p = 120\n",
    "\n",
    "print(f\"Parkeringstid: {time_period}, pris per time: {p} kroner, parkeringskostnad: {parking_cost(time_period, p)} kroner\")"
   ]
  },
  {
   "cell_type": "markdown",
   "metadata": {},
   "source": [
    "3. Lag en funksjon som tar en liste med adjektiv som argument. Kall argumentet for  `adj_list`. Funksjonen skal returnere et tilfeldig element fra listen. Du kan for eksempel teste funksjonen med denne listen `['dyr', 'billig', 'pareto optimal', 'høy', 'lav', 'ineffektiv']`. For å plukke et tilfeldig element fra en liste `adj_list` med `4`elementer, skriver du `adj_list[np.random.randint(4)]`.  "
   ]
  },
  {
   "cell_type": "code",
   "execution_count": 30,
   "metadata": {},
   "outputs": [
    {
     "data": {
      "text/plain": [
       "'høy'"
      ]
     },
     "execution_count": 30,
     "metadata": {},
     "output_type": "execute_result"
    }
   ],
   "source": [
    "def get_adjective(adj_list):\n",
    "    i = np.random.randint(len(adj_list))\n",
    "    return adj_list[i]\n",
    "\n",
    "get_adjective(['dyr', 'billig', 'pareto optimal', 'høy', 'lav', 'ineffektiv'])"
   ]
  },
  {
   "cell_type": "markdown",
   "metadata": {
    "tags": []
   },
   "source": [
    "#### Oppgave 4:\n",
    "a) Bruk eksponentialfunksjonen og log-funksjonen i numpy til å vise at log-funksjonen er det motsatte av eksponentialfunksjonen. \n",
    "\n"
   ]
  },
  {
   "cell_type": "code",
   "execution_count": 33,
   "metadata": {},
   "outputs": [
    {
     "name": "stdout",
     "output_type": "stream",
     "text": [
      "3.234\n"
     ]
    }
   ],
   "source": [
    "number = 3.234\n",
    "e = np.exp(number)\n",
    "print(np.log(e))"
   ]
  },
  {
   "cell_type": "markdown",
   "metadata": {},
   "source": [
    "***Vi ser at vi får samme tall***"
   ]
  },
  {
   "cell_type": "markdown",
   "metadata": {
    "tags": []
   },
   "source": [
    "\n",
    "b) Regn ut hvor mange prosent 205,210,220,230 og 240 er av 200. Regn også ut logaritmen av 205/200, 210/200 ... osv. og kommenter resultatet. "
   ]
  },
  {
   "cell_type": "code",
   "execution_count": 35,
   "metadata": {},
   "outputs": [
    {
     "name": "stdout",
     "output_type": "stream",
     "text": [
      "i %: 2.499999999999991, i log: 2.4692612590371414\n",
      "i %: 5.000000000000004, i log: 4.879016416943204\n",
      "i %: 10.000000000000009, i log: 9.531017980432493\n",
      "i %: 14.999999999999991, i log: 13.976194237515863\n",
      "i %: 19.999999999999996, i log: 18.232155679395458\n"
     ]
    }
   ],
   "source": [
    "for i in [205,210,220,230, 240]:\n",
    "    print(f\"i %: {100*(i/200-1)}, i log: {100*np.log(i/200)}\")"
   ]
  },
  {
   "cell_type": "markdown",
   "metadata": {
    "tags": []
   },
   "source": [
    "***Prosentene ligner, logarigmen er % ved kontinuerlig forrentning.***"
   ]
  },
  {
   "cell_type": "markdown",
   "metadata": {
    "tags": []
   },
   "source": [
    "#### Oppgave 5:\n",
    "\n",
    "Lag en funksjon som returnerer det høyeste av funksjonene `account_balance_exponential` og `account_balance`. Er dette en nyttig funksjon?"
   ]
  },
  {
   "cell_type": "code",
   "execution_count": 48,
   "metadata": {},
   "outputs": [
    {
     "name": "stdout",
     "output_type": "stream",
     "text": [
      "222.55409284924679\n"
     ]
    },
    {
     "data": {
      "text/plain": [
       "222.55409284924679"
      ]
     },
     "execution_count": 48,
     "metadata": {},
     "output_type": "execute_result"
    }
   ],
   "source": [
    "def higest_account_balance(x,r,T,n):\n",
    "    return max((\n",
    "        account_balance_n(x,r,T,n),\n",
    "        account_balance_exponential(x,r,T)\n",
    "    ))\n",
    "    \n",
    "print(higest_account_balance(100, 0.2, 4, 1))\n",
    "account_balance_exponential(100, 0.2, 4)"
   ]
  },
  {
   "cell_type": "markdown",
   "metadata": {},
   "source": [
    "***Funksjonen vil alltid være lik `account_balance_exponential`, siden kontinuerlig forrentning alltid er høyest, så ikke så nyttig***"
   ]
  },
  {
   "cell_type": "markdown",
   "metadata": {},
   "source": [
    "#### Oppgave 6"
   ]
  },
  {
   "cell_type": "markdown",
   "metadata": {},
   "source": [
    "a) Bruk innebygde Python-funksjoner til å finne maksimum, minimum, absoluttverdi og lengden av teksten \"1, -5, 10\". Bruk funksjonen `eval` til å konvertere verdiene til en tallrekke"
   ]
  },
  {
   "cell_type": "code",
   "execution_count": 46,
   "metadata": {},
   "outputs": [
    {
     "name": "stdout",
     "output_type": "stream",
     "text": [
      "10\n",
      "10\n",
      "[ 1  5 10]\n",
      "3\n",
      "9\n"
     ]
    }
   ],
   "source": [
    "values = eval(\"1, -5, 10\")\n",
    "print(max(values))\n",
    "print(max(values))\n",
    "print(np.abs(values))\n",
    "print(len(values))\n",
    "print(len(\"1, -5, 10\"))"
   ]
  },
  {
   "cell_type": "markdown",
   "metadata": {
    "tags": []
   },
   "source": [
    "***Lengden kan enten være lengden av strengen eller lengden av listen***"
   ]
  },
  {
   "cell_type": "markdown",
   "metadata": {},
   "source": [
    "b) Nåverdien til et beløp er det en trenger å sette i banken i dag for å få beløpet i fremtiden. Formelen for dette er `X/((1+r)**T)`. Lag en funksjon som retuner nåverdien av et beløp. Lag også en funksjon som returnerer nåverdien med kontinuerlig forrentning. "
   ]
  },
  {
   "cell_type": "code",
   "execution_count": 50,
   "metadata": {},
   "outputs": [],
   "source": [
    "def present_value(x,r,T,n):\n",
    "    return x*(1+r/n)**(-T*n)\n",
    "\n",
    "def present_value_exponential(x,r,T):\n",
    "    return x*np.exp(-r*T)\n"
   ]
  },
  {
   "cell_type": "markdown",
   "metadata": {},
   "source": [
    "c) Lag en funkson som returnerer nåverdi eller sluttverdi avhengig av hva argumentene er. Sluttverdi er det som er beregnet i avsnittet \"Lage egne funksjoner - renteregning\". Funksjonen skal ha antall forrentninger per år som argument, og skal returnere kontinuerlig forrentning dersom antall forrentninger er høyere enn 100\n",
    "\n",
    "Du kan bruke en `if`- betingelse til å velge hva en funksjon skal gjøre slik:\n"
   ]
  },
  {
   "cell_type": "code",
   "execution_count": 53,
   "metadata": {
    "tags": []
   },
   "outputs": [
    {
     "name": "stdout",
     "output_type": "stream",
     "text": [
      "44.932896411722155\n",
      "222.55409284924679\n",
      "48.22530864197532\n",
      "207.35999999999999\n"
     ]
    }
   ],
   "source": [
    "def pv_or_balance(x,r,T, return_pv ,n=None):\n",
    "    if n is None:\n",
    "        if return_pv:\n",
    "            return present_value_exponential(x,r,T)\n",
    "        else:\n",
    "            return account_balance_exponential(x,r,T)\n",
    "    else:\n",
    "        if return_pv:\n",
    "            return present_value(x,r,T, n)\n",
    "        else:\n",
    "            return account_balance_n(x,r,T,n)\n",
    "\n",
    "        \n",
    "print( pv_or_balance(100, 0.2, 4, True) )\n",
    "print( pv_or_balance(100, 0.2, 4, False) )\n",
    "print( pv_or_balance(100, 0.2, 4, True, 1) )\n",
    "print( pv_or_balance(100, 0.2, 4, False, 1) )"
   ]
  },
  {
   "cell_type": "markdown",
   "metadata": {
    "tags": []
   },
   "source": [
    "***Men vi kan også bruke at med negaativ tid T får vi nåverdi, slik at vi slipper et eget argument for det***"
   ]
  },
  {
   "cell_type": "code",
   "execution_count": 56,
   "metadata": {
    "tags": []
   },
   "outputs": [
    {
     "name": "stdout",
     "output_type": "stream",
     "text": [
      "44.932896411722155\n",
      "222.55409284924679\n",
      "48.22530864197532\n",
      "207.35999999999999\n"
     ]
    }
   ],
   "source": [
    "def pv_or_balance(x,r,T ,n=None):\n",
    "    if n is None:\n",
    "        return account_balance_exponential(x,r,T)\n",
    "    else:\n",
    "        return account_balance_n(x,r,T, n)\n",
    "\n",
    "    \n",
    "print( pv_or_balance(100, 0.2, -4) )\n",
    "print( pv_or_balance(100, 0.2,  4) )\n",
    "print( pv_or_balance(100, 0.2, -4, 1) )\n",
    "print( pv_or_balance(100, 0.2,  4, 1) )"
   ]
  },
  {
   "cell_type": "markdown",
   "metadata": {},
   "source": [
    "##### [< Forrige](1%20-%20intro.ipynb)     |     [Neste >](3%20-%20matplotlib.ipynb)"
   ]
  }
 ],
 "metadata": {
  "kernelspec": {
   "display_name": "Python 3 (ipykernel)",
   "language": "python",
   "name": "python3"
  },
  "language_info": {
   "codemirror_mode": {
    "name": "ipython",
    "version": 3
   },
   "file_extension": ".py",
   "mimetype": "text/x-python",
   "name": "python",
   "nbconvert_exporter": "python",
   "pygments_lexer": "ipython3",
   "version": "3.11.5"
  }
 },
 "nbformat": 4,
 "nbformat_minor": 4
}
